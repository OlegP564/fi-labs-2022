{
  "nbformat": 4,
  "nbformat_minor": 0,
  "metadata": {
    "colab": {
      "name": "СК_Лаб1.ipynb",
      "provenance": []
    },
    "kernelspec": {
      "name": "python3",
      "display_name": "Python 3"
    },
    "language_info": {
      "name": "python"
    }
  },
  "cells": [
    {
      "cell_type": "code",
      "execution_count": 244,
      "metadata": {
        "id": "oAfN6v5CpmEq"
      },
      "outputs": [],
      "source": [
        "\n",
        "def count_liters_and_probels():\n",
        "  f = open('Text')\n",
        "  count=[ 0 for i in range(33)]\n",
        "  for char in f.read():\n",
        "    if ord(char)>=1072 and ord(char)<=1072+31:\n",
        "      count[ord(char)-1072]=count[ord(char)-1072]+1\n",
        "    if ord(char)==32:\n",
        "      count[32]=count[32]+1\n",
        "  All=0\n",
        "  for i in range(33):\n",
        "    All=All+count[i]\n",
        "  liters=[ 0 for i in range(33)]\n",
        "  for i in range(33):\n",
        "    liters[i]=count[i]\n",
        "  count.sort(reverse=True)\n",
        "  for i in range(33):\n",
        "    for j in range(33):\n",
        "      if count[i]==liters[j] and j!=32:\n",
        "        print(chr(j+1072),'=',count[i]/All)\n",
        "      if count[i]==liters[j] and j==32:\n",
        "        print('space =',count[i]/All)\n",
        "  f.close()"
      ]
    },
    {
      "cell_type": "code",
      "source": [
        "def count_liters():\n",
        "  f = open('Text')\n",
        "  count=[ 0 for i in range(32)]\n",
        "  for char in f.read():\n",
        "    if ord(char)>=1072 and ord(char)<=1072+31:\n",
        "      count[ord(char)-1072]=count[ord(char)-1072]+1\n",
        "  All=0\n",
        "  for i in range(32):\n",
        "    All=All+count[i]\n",
        "  liters=[ 0 for i in range(32)]\n",
        "  for i in range(32):\n",
        "    liters[i]=count[i]\n",
        "  count.sort(reverse=True)\n",
        "  for i in range(32):\n",
        "    for j in range(32):\n",
        "      if count[i]==liters[j]:\n",
        "        print(chr(j+1072),'=',count[i]/All)\n",
        "  f.close()"
      ],
      "metadata": {
        "id": "2ykQaFfrFFV7"
      },
      "execution_count": 232,
      "outputs": []
    },
    {
      "cell_type": "code",
      "source": [
        "def count_bigrams_no_prob():\n",
        "    f = open('Text')\n",
        "    import numpy as np\n",
        "    count=np.array([[ 0.0 for i in range(32)] for i in range(32)])\n",
        "    a1=0\n",
        "    a2=0\n",
        "    a3=0\n",
        "    first=0\n",
        "    second=0\n",
        "    for char in f.read():\n",
        "      if first==0:\n",
        "        if ord(char)>=1072 and ord(char)<=1072+31:\n",
        "          a3=ord(char)-1072\n",
        "          first =1\n",
        "      else:\n",
        "        if ord(char)>=1072 and ord(char)<=1072+31:\n",
        "          a1=a2\n",
        "          a2=a3\n",
        "          a3=ord(char)-1072\n",
        "          count[a2,a3]=count[a2,a3]+1\n",
        "          if second==0:\n",
        "            second =1\n",
        "          else:\n",
        "            count[a1,a3]=count[a1,a3]+1\n",
        "    All=0\n",
        "    for i in range(32):\n",
        "      for j in range (32):\n",
        "        All=All+count[i,j]\n",
        "    for i in range(32):\n",
        "      for j in range (32):\n",
        "        count[i,j]=count[i,j]/All\n",
        "    print(count)\n",
        "    f.close()\n"
      ],
      "metadata": {
        "id": "YzCprQLHLEYu"
      },
      "execution_count": 233,
      "outputs": []
    },
    {
      "cell_type": "code",
      "source": [
        "def count_bigrams_with_prob():\n",
        "    f = open('Text')\n",
        "    import numpy as np\n",
        "    count=np.array([[ 0.0 for i in range(33)] for i in range(33)])\n",
        "    a1=0\n",
        "    a2=0\n",
        "    a3=0\n",
        "    first=0\n",
        "    second=0\n",
        "    for char in f.read():\n",
        "      if first==0:\n",
        "        if ord(char)>=1072 and ord(char)<=1072+31:\n",
        "          a3=ord(char)-1072\n",
        "          first =1\n",
        "        if ord(char)==32:\n",
        "          a3=32\n",
        "          first =1\n",
        "      else:\n",
        "        if ord(char)>=1072 and ord(char)<=1072+31:\n",
        "          a1=a2\n",
        "          a2=a3\n",
        "          a3=ord(char)-1072\n",
        "          count[a2,a3]=count[a2,a3]+1\n",
        "          if second==0:\n",
        "            second =1\n",
        "          else:\n",
        "            count[a1,a3]=count[a1,a3]+1\n",
        "        if ord(char)==32:\n",
        "          a1=a2\n",
        "          a2=a3\n",
        "          a3=32\n",
        "          count[a2,a3]=count[a2,a3]+1\n",
        "          if second==0:\n",
        "            second =1\n",
        "          else:\n",
        "            count[a1,a3]=count[a1,a3]+1\n",
        "\n",
        "    All=0\n",
        "    for i in range(33):\n",
        "      for j in range (33):\n",
        "        All=All+count[i,j]\n",
        "    for i in range(33):\n",
        "      for j in range (33):\n",
        "        count[i,j]=count[i,j]/All\n",
        "    print(count)\n",
        "    f.close()\n"
      ],
      "metadata": {
        "id": "ACpUA2K33aPI"
      },
      "execution_count": 234,
      "outputs": []
    },
    {
      "cell_type": "code",
      "source": [
        "def H1_Pr():\n",
        "  import math\n",
        "  f = open('Text')\n",
        "  H=0\n",
        "  count=[ 0 for i in range(33)]\n",
        "  for char in f.read():\n",
        "    if ord(char)>=1072 and ord(char)<=1072+31:\n",
        "      count[ord(char)-1072]=count[ord(char)-1072]+1\n",
        "    if ord(char)==32:\n",
        "      count[32]=count[32]+1\n",
        "  All=0\n",
        "  for i in range(33):\n",
        "    All=All+count[i]\n",
        "  for i in range(33):\n",
        "    count[i]=count[i]/All\n",
        "    if count[i]!=0:\n",
        "      H=H-count[i]*math.log2(count[i])\n",
        "  f.close()\n",
        "  return H\n"
      ],
      "metadata": {
        "id": "ge6jArK7A3jY"
      },
      "execution_count": 235,
      "outputs": []
    },
    {
      "cell_type": "code",
      "source": [
        "def H1_No_Pr():\n",
        "  import math\n",
        "  f = open('Text')\n",
        "  H=0\n",
        "  count=[ 0 for i in range(32)]\n",
        "  for char in f.read():\n",
        "    if ord(char)>=1072 and ord(char)<=1072+31:\n",
        "      count[ord(char)-1072]=count[ord(char)-1072]+1\n",
        "  All=0\n",
        "  for i in range(32):\n",
        "    All=All+count[i]\n",
        "  for i in range(32):\n",
        "    count[i]=count[i]/All\n",
        "    if count[i]!=0:\n",
        "      H=H-count[i]*math.log2(count[i])\n",
        "  f.close()\n",
        "  return H\n"
      ],
      "metadata": {
        "id": "FxdzlF3hEpoJ"
      },
      "execution_count": 236,
      "outputs": []
    },
    {
      "cell_type": "code",
      "source": [
        "def H2_No_Pr():\n",
        "    f = open('Text')\n",
        "    import numpy as np\n",
        "    import math\n",
        "    H=0\n",
        "    count=np.array([[ 0.0 for i in range(32)] for i in range(32)])\n",
        "    a1=0\n",
        "    a2=0\n",
        "    a3=0\n",
        "    first=0\n",
        "    second=0\n",
        "    for char in f.read():\n",
        "      if first==0:\n",
        "        if ord(char)>=1072 and ord(char)<=1072+31:\n",
        "          a3=ord(char)-1072\n",
        "          first =1\n",
        "      else:\n",
        "        if ord(char)>=1072 and ord(char)<=1072+31:\n",
        "          a1=a2\n",
        "          a2=a3\n",
        "          a3=ord(char)-1072\n",
        "          count[a2,a3]=count[a2,a3]+1\n",
        "          if second==0:\n",
        "            second =1\n",
        "          else:\n",
        "            count[a1,a3]=count[a1,a3]+1\n",
        "    All=0\n",
        "    for i in range(32):\n",
        "      for j in range (32):\n",
        "        All=All+count[i,j]\n",
        "    for i in range(32):\n",
        "      for j in range (32):\n",
        "        count[i,j]=count[i,j]/All\n",
        "        if count[i,j]!=0:\n",
        "          H=H-count[i,j]*math.log2(count[i,j])\n",
        "    H=H/2\n",
        "    return H\n",
        "    f.close()\n"
      ],
      "metadata": {
        "id": "I1wqDiNZE-LI"
      },
      "execution_count": 255,
      "outputs": []
    },
    {
      "cell_type": "code",
      "source": [
        "def H2_Pr():\n",
        "    f = open('Text')\n",
        "    import numpy as np\n",
        "    import math\n",
        "    H=0\n",
        "    count=np.array([[ 0.0 for i in range(33)] for i in range(33)])\n",
        "    a1=0\n",
        "    a2=0\n",
        "    a3=0\n",
        "    first=0\n",
        "    second=0\n",
        "    for char in f.read():\n",
        "      if first==0:\n",
        "        if ord(char)>=1072 and ord(char)<=1072+31:\n",
        "          a3=ord(char)-1072\n",
        "          first =1\n",
        "        if ord(char)==32:\n",
        "          a3=32\n",
        "          first =1\n",
        "      else:\n",
        "        if ord(char)>=1072 and ord(char)<=1072+31:\n",
        "          a1=a2\n",
        "          a2=a3\n",
        "          a3=ord(char)-1072\n",
        "          count[a2,a3]=count[a2,a3]+1\n",
        "          if second==0:\n",
        "            second =1\n",
        "          else:\n",
        "            count[a1,a3]=count[a1,a3]+1\n",
        "        if ord(char)==32:\n",
        "          a1=a2\n",
        "          a2=a3\n",
        "          a3=32\n",
        "          count[a2,a3]=count[a2,a3]+1\n",
        "          if second==0:\n",
        "            second =1\n",
        "          else:\n",
        "            count[a1,a3]=count[a1,a3]+1\n",
        "\n",
        "    All=0\n",
        "    for i in range(33):\n",
        "      for j in range (33):\n",
        "        All=All+count[i,j]\n",
        "    for i in range(33):\n",
        "      for j in range (33):\n",
        "        count[i,j]=count[i,j]/All\n",
        "        if count[i,j]!=0:\n",
        "          H=H-count[i,j]*math.log2(count[i,j])\n",
        "    H=H/2\n",
        "    return H\n",
        "    f.close()\n"
      ],
      "metadata": {
        "id": "tEnV88r-Gk4V"
      },
      "execution_count": 253,
      "outputs": []
    },
    {
      "cell_type": "code",
      "source": [
        "count_liters()"
      ],
      "metadata": {
        "id": "2Fj-SOoiIipw"
      },
      "execution_count": null,
      "outputs": []
    },
    {
      "cell_type": "code",
      "source": [
        "count_liters_and_probels()"
      ],
      "metadata": {
        "id": "4wKQlmt3L6Lt"
      },
      "execution_count": null,
      "outputs": []
    },
    {
      "cell_type": "code",
      "source": [
        "count_bigrams_with_prob()"
      ],
      "metadata": {
        "colab": {
          "base_uri": "https://localhost:8080/"
        },
        "id": "YIeJxLwlMdC0",
        "outputId": "02a774aa-e448-4fdb-b918-6904ca047297"
      },
      "execution_count": 251,
      "outputs": [
        {
          "output_type": "stream",
          "name": "stdout",
          "text": [
            "[[2.94785328e-03 7.30045702e-04 2.19279044e-03 ... 6.31114275e-04\n",
            "  1.47487426e-03 1.25930988e-02]\n",
            " [9.07819032e-04 1.93314282e-05 1.87628568e-04 ... 8.83180937e-05\n",
            "  4.21500945e-04 1.17201522e-03]\n",
            " [2.84702662e-03 2.03927616e-04 4.22638088e-04 ... 2.91866662e-04\n",
            "  8.65744747e-04 4.50611802e-03]\n",
            " ...\n",
            " [1.39489521e-04 1.75499045e-04 2.08097139e-04 ... 1.55409521e-05\n",
            "  6.74704750e-05 1.45705902e-03]\n",
            " [3.07407614e-04 2.66849519e-04 1.03593713e-03 ... 8.75599985e-05\n",
            "  2.44106662e-04 7.52599035e-03]\n",
            " [1.10371084e-02 3.52059423e-03 8.31819986e-03 ... 4.55994278e-04\n",
            "  2.00781520e-03 8.72870842e-03]]\n"
          ]
        }
      ]
    },
    {
      "cell_type": "code",
      "source": [
        "count_bigrams_no_prob()"
      ],
      "metadata": {
        "colab": {
          "base_uri": "https://localhost:8080/"
        },
        "id": "tmSKdfe_Lpv6",
        "outputId": "acc932d2-edad-4a7f-fa96-3b9e47ca0e4d"
      },
      "execution_count": 250,
      "outputs": [
        {
          "output_type": "stream",
          "name": "stdout",
          "text": [
            "[[4.62353850e-03 1.15891667e-03 3.40173487e-03 ... 2.30884950e-04\n",
            "  7.86536083e-04 2.04831784e-03]\n",
            " [1.08704587e-03 6.69296839e-05 3.65642702e-04 ... 7.95070741e-05\n",
            "  1.05560240e-04 5.47565669e-04]\n",
            " [3.87383620e-03 3.55311275e-04 8.11690864e-04 ... 1.18137630e-04\n",
            "  3.83161210e-04 1.06189109e-03]\n",
            " ...\n",
            " [7.59135340e-05 4.04273258e-06 3.86305558e-05 ... 5.39031011e-06\n",
            "  8.98385018e-07 1.07806202e-05]\n",
            " [3.97086178e-04 2.38970415e-04 3.09044446e-04 ... 2.38072030e-05\n",
            "  2.47055880e-05 8.93893093e-05]\n",
            " [1.54701900e-03 4.40657851e-04 1.51332956e-03 ... 8.84909243e-05\n",
            "  1.32960983e-04 3.43632269e-04]]\n"
          ]
        }
      ]
    },
    {
      "cell_type": "code",
      "source": [
        "print('H1 with spaces =',H1_Pr())\n",
        "print('H1 without spaces =',H1_No_Pr())\n",
        "print('H2 with spaces =',H2_Pr())\n",
        "print('H2 without spaces =',H2_No_Pr())"
      ],
      "metadata": {
        "colab": {
          "base_uri": "https://localhost:8080/"
        },
        "id": "G-fT0xRgBZZD",
        "outputId": "c854ccb4-bd0d-4dde-f34a-81a8a32a6714"
      },
      "execution_count": 256,
      "outputs": [
        {
          "output_type": "stream",
          "name": "stdout",
          "text": [
            "H1 with spaces = 4.409257066577585\n",
            "H1 without spaces = 4.484509761316716\n",
            "H2 with spaces = 4.309974746545843\n",
            "H2 without spaces = 4.414106649082822\n"
          ]
        }
      ]
    }
  ]
}