{
  "cells": [
    {
      "cell_type": "code",
      "execution_count": 15,
      "metadata": {
        "id": "OGeb8SU-aSxG"
      },
      "outputs": [],
      "source": [
        "def ober(a,n):\n",
        "  a=a%n\n",
        "  r0=n\n",
        "  r1=a\n",
        "  q=[ 0 for i in range (n)]\n",
        "  u=[ 0 for i in range (n)]\n",
        "  v=[ 0 for i in range (n)]\n",
        "  u[0]=1\n",
        "  v[1]=1\n",
        "  q[0]=n//a\n",
        "  i=0\n",
        "  while True:\n",
        "    i=i+1\n",
        "    temp=r0\n",
        "    r0=r1\n",
        "    r1=temp%r1\n",
        "    u[i+1]=(u[i-1]-q[i-1]*u[i])\n",
        "    v[i+1]=(v[i-1]-q[i-1]*v[i])\n",
        "    if r1==0:\n",
        "      return v[i]%n\n",
        "    q[i]=r0//r1"
      ]
    },
    {
      "cell_type": "code",
      "execution_count": 16,
      "metadata": {
        "id": "bpYhQrY9aPo3"
      },
      "outputs": [],
      "source": [
        "def lin_por (a,b,n):\n",
        "  import math\n",
        "  a=a%n\n",
        "  b=b%n\n",
        "  d=0\n",
        "  x0=0\n",
        "  if math.gcd(a,n)==1:\n",
        "    return [(ober(a,n)*b)%n]\n",
        "  d=math.gcd(a,n)\n",
        "  if (b%d)!=0:\n",
        "    return [-9999]\n",
        "  a1=int(a/d)\n",
        "  b1=int(b/d)\n",
        "  n1=int(n/d)\n",
        "  x0 = (ober(a1,n1)*b1)%n1\n",
        "  x=[0 for i in range (d)]\n",
        "  for i in range (d):\n",
        "    x[i]=(x0+n1*i)%n\n",
        "  return x "
      ]
    },
    {
      "cell_type": "code",
      "execution_count": 17,
      "metadata": {
        "id": "55t2DTWo6cXd"
      },
      "outputs": [],
      "source": [
        "def count_liters(Y):\n",
        "  count=[ 0 for i in range(32)]\n",
        "  All=0\n",
        "  for char in Y:\n",
        "    if ord(char)>=1072 and ord(char)<=1072+31:\n",
        "      count[ord(char)-1072]=count[ord(char)-1072]+1\n",
        "  for i in range(32):\n",
        "    All=All+count[i]\n",
        "  for i in range(32):\n",
        "    count[i]=count[i]/All\n",
        "  return count"
      ]
    },
    {
      "cell_type": "code",
      "execution_count": 25,
      "metadata": {
        "id": "7-7RglZ26OFu"
      },
      "outputs": [],
      "source": [
        "def Logik(Y):\n",
        "  count=count_liters(Y)\n",
        "  if count[15]>0.04 and count[0]>0.04 and count[5]>0.04 and count[21]<0.02 and count[26]<0.02:\n",
        "    return 1\n",
        "  return 0"
      ]
    },
    {
      "cell_type": "code",
      "execution_count": 32,
      "metadata": {
        "id": "75CYioHef4p8"
      },
      "outputs": [],
      "source": [
        "def deshifr (Y,a,b,n):\n",
        "  X=str()\n",
        "  A=ober(a,n*n)\n",
        "  temp1=0\n",
        "  temp2=0\n",
        "  for i in range (0,len(Y)-1,2):\n",
        "    in1=(ord(Y[i])-1072)*n+(ord(Y[i+1])-1072)\n",
        "    in2=(A*(in1-b))%(n*n)\n",
        "    temp2=in2%n\n",
        "    temp1=(in2-temp2)/n\n",
        "    X=X+str(chr(int(temp1+1072)))\n",
        "    X=X+str(chr(int(temp2+1072)))\n",
        "  return X"
      ]
    },
    {
      "cell_type": "code",
      "execution_count": 30,
      "metadata": {
        "id": "cCRT74HJF3RT"
      },
      "outputs": [],
      "source": [
        "def count_bigrams(Y):\n",
        "    import numpy as np\n",
        "    count=np.array([[ 0.0 for i in range(32)] for i in range(32)])\n",
        "    a1=0\n",
        "    a2=0\n",
        "    for i in range(0,(len(Y)-1),2):\n",
        "        if ord(Y[i])>=1072 and ord(Y[i])<=1072+31:\n",
        "          a1=ord(Y[i])-1072\n",
        "          a2=ord(Y[i+1])-1072\n",
        "          count[a1,a2]=count[a2,a2]+1\n",
        "    All=0\n",
        "    for i in range(32):\n",
        "      for j in range (32):\n",
        "        All=All+count[i,j]\n",
        "    for i in range(32):\n",
        "      for j in range (32):\n",
        "        count[i,j]=count[i,j]/All\n",
        "    return count"
      ]
    },
    {
      "cell_type": "code",
      "execution_count": 21,
      "metadata": {
        "id": "_-6yfUcrGua_"
      },
      "outputs": [],
      "source": [
        "def top10 (count,n):\n",
        "  import numpy as np\n",
        "  Top= np.array([[0,0] for i in range (10)])\n",
        "  for k in range (10):\n",
        "    max=0\n",
        "    in1=0\n",
        "    in2=0\n",
        "    for i in range (len(count)):\n",
        "      for j in range (len(count)):\n",
        "        if count[i,j]>max:\n",
        "          max=count[i,j]\n",
        "          in1=i\n",
        "          in2=j\n",
        "    count[in1,in2]=0\n",
        "    Top[k,0]=in1\n",
        "    Top[k,1]=in2\n",
        "  Top2=[0,0,0,0,0,0,0,0,0,0]\n",
        "  for i in range(10):\n",
        "    Top2[i]=Top[i,0]*n+Top[i,1]\n",
        "  return Top2"
      ]
    },
    {
      "cell_type": "code",
      "execution_count": 34,
      "metadata": {
        "id": "Piz3wO-wKuYG"
      },
      "outputs": [],
      "source": [
        "def top10_real (n):\n",
        "  import numpy as np\n",
        "  Top2=[0,0,0,0,0,0,0,0,0,0]\n",
        "  Top= np.array([[17,18], [16,0], [5,13],[13,8], [13,0],[0,13], [13,14], [14,2], [10,14], [16,5]])\n",
        "  for i in range(10):\n",
        "    Top2[i]=Top[i,0]*n+Top[i,1]\n",
        "  return Top2"
      ]
    },
    {
      "cell_type": "code",
      "execution_count": 42,
      "metadata": {
        "id": "UxS5cBbuMI3J"
      },
      "outputs": [],
      "source": [
        "def roshifr (Y,n):\n",
        "  top=top10(count_bigrams(Y),n)\n",
        "  top_real=top10_real(n)\n",
        "  for i in range(10):\n",
        "    for j in range(10):\n",
        "      if i!=j:\n",
        "        for f in range(10):\n",
        "          for t in range(10):\n",
        "            if f!=t:\n",
        "              y1=top[i]\n",
        "              y2=top[j]\n",
        "              x1=top_real[f]\n",
        "              x2=top_real[t]\n",
        "              a=lin_por((x1-x2)%(n*n),(y1-y2)%(n*n),n*n)\n",
        "              if a !=[-9999]:\n",
        "                for z in range (len(a)):\n",
        "                  a[z]=ober(a[z],n*n)\n",
        "                  b=(y1-a[z]*x1)%(n*n)\n",
        "                  if Logik(deshifr(Y,a[z],b,n))==1:\n",
        "                    print(a[z],b, deshifr(Y,a[z],b,n))\n",
        "  return 0"
      ]
    },
    {
      "cell_type": "code",
      "execution_count": 43,
      "metadata": {
        "id": "b5zxyfAxI675",
        "colab": {
          "base_uri": "https://localhost:8080/"
        },
        "outputId": "c16b824d-8c06-4b99-f0b8-0992887cbf40"
      },
      "outputs": [
        {
          "output_type": "stream",
          "name": "stdout",
          "text": [
            "0\n"
          ]
        }
      ],
      "source": [
        "Text_var=open('Variant14')\n",
        "a=str()\n",
        "for char in Text_var.read():\n",
        "  a=a+str(char)\n",
        "print(roshifr(a,31))\n"
      ]
    }
  ],
  "metadata": {
    "colab": {
      "name": "CK_лаб3.ipynb",
      "provenance": [],
      "collapsed_sections": []
    },
    "kernelspec": {
      "display_name": "Python 3",
      "name": "python3"
    },
    "language_info": {
      "name": "python"
    }
  },
  "nbformat": 4,
  "nbformat_minor": 0
}